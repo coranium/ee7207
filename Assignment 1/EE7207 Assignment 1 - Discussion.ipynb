{
 "cells": [
  {
   "cell_type": "code",
   "execution_count": 9,
   "metadata": {},
   "outputs": [],
   "source": [
    "%matplotlib inline\n",
    "import scipy.io\n",
    "import numpy as np\n",
    "from sklearn.model_selection import train_test_split\n",
    "\n",
    "from minisom import MiniSom\n",
    "import matplotlib.gridspec as gridspec\n",
    "import matplotlib.pyplot as plt"
   ]
  },
  {
   "cell_type": "markdown",
   "metadata": {},
   "source": [
    "## Data Exploration"
   ]
  },
  {
   "cell_type": "code",
   "execution_count": 3,
   "metadata": {},
   "outputs": [],
   "source": [
    "# Load Data\n",
    "train_x = scipy.io.loadmat('train_data.mat')['data_train']\n",
    "train_y = scipy.io.loadmat('train_label.mat')['label_train']\n",
    "test_x = scipy.io.loadmat('test_data.mat')['data_test']"
   ]
  },
  {
   "cell_type": "markdown",
   "metadata": {},
   "source": [
    "## Main functions and classes"
   ]
  },
  {
   "cell_type": "code",
   "execution_count": 4,
   "metadata": {},
   "outputs": [],
   "source": [
    "# Helper functions\n",
    "def exponential_decay(parameter, n, t1):\n",
    "    if parameter >0.1: t1 = 1000/np.log(t1)\n",
    "    return parameter * np.exp(-1 * n / t1)\n",
    "\n",
    "def asymptotic_decay(parameter, t, max_iter):\n",
    "    return parameter / (1+t/(max_iter/2))\n",
    "\n",
    "def get_distance(x1, x2):\n",
    "    out = (x1 - x2)**2\n",
    "    out = out.sum()\n",
    "    return np.sqrt(out)"
   ]
  },
  {
   "cell_type": "code",
   "execution_count": 5,
   "metadata": {},
   "outputs": [],
   "source": [
    "# Class definition for SOM network\n",
    "class MiniSomv2(MiniSom):       \n",
    "    def random_weights_init(self, data):\n",
    "        it = np.nditer(self._activation_map, flags=['multi_index'])\n",
    "        \n",
    "        while not it.finished:\n",
    "            rand_i = np.random.randint(len(data))\n",
    "            self._weights[it.multi_index] = data[rand_i]\n",
    "            it.iternext()\n",
    "        \n",
    "    def update_converge(self, x, win, lr):\n",
    "        winner = self._weights[win[0],win[1]]\n",
    "        self._weights[win[0],win[1]] += (x - winner) * lr\n",
    "       \n",
    "    def converge(self, data, num_iteration, lr = 0.01, random=False):\n",
    "        iterations =  np.arange(num_iteration) % len(data)\n",
    "        if random: np.random.shuffle(iterations)\n",
    "       \n",
    "        for iteration in iterations:\n",
    "            self.update_converge(data[iteration], self.winner(data[iteration]), lr = lr)\n",
    "     \n",
    "    def train(self, data, num_iteration, random=False):\n",
    "        iterations =  np.arange(num_iteration) % len(data)\n",
    "        if random: np.random.shuffle(iterations)\n",
    "            \n",
    "        for t, iteration in enumerate(iterations):\n",
    "            self.update(data[iteration], self.winner(data[iteration]),\n",
    "                        t, num_iteration)"
   ]
  },
  {
   "cell_type": "code",
   "execution_count": 14,
   "metadata": {},
   "outputs": [],
   "source": [
    "# Class Definition for RBF network\n",
    "class RBF:\n",
    "    def __init__(self, X, y, centroids, sigma = 1.0):\n",
    "        self.X, self.y, self.centroids, self.sigma = X, y, centroids, sigma\n",
    "        \n",
    "    def one_hot(self,x):\n",
    "        arr = np.concatenate (((x == -1),(x == 1)), axis= 1)\n",
    "        return arr.astype(int)\n",
    "\n",
    "    def rbf(self, x, c):\n",
    "        d = get_distance(x, c)\n",
    "        return np.exp(-0.5 * (d**2) / self.sigma **2)\n",
    "\n",
    "    def rbf_list(self, X, centroids):\n",
    "        RBF_list = []\n",
    "        for x in X:\n",
    "            RBF_list.append([self.rbf(x, c) for c in centroids])\n",
    "        return np.array(RBF_list)\n",
    "    \n",
    "    def fit(self):\n",
    "        RBF_X = self.rbf_list(self.X, self.centroids)\n",
    "        self.w = np.linalg.pinv(RBF_X.T @ RBF_X) @ RBF_X.T @ self.one_hot(self.y)\n",
    "    \n",
    "    def evaluate(self, data_x = None, data_y = None):\n",
    "        # Evaluate RBF on training data\n",
    "        if data: \n",
    "            preds = self.predict(data_x).reshape(data_x.shape[0],1)\n",
    "            diff = preds - data_y\n",
    "            acc = (diff==0).sum() / len(diff)\n",
    "            return acc\n",
    "        else:\n",
    "            preds = self.predict(self.X).reshape(330,1)\n",
    "            diff = preds - self.y\n",
    "            acc = (diff==0).sum() / len(diff)\n",
    "            print(f'Accuracy on Training Data is: {acc*100:0.2f}%')\n",
    "    \n",
    "    def predict(self, data):\n",
    "        rbf_data = self.rbf_list(data, self.centroids)\n",
    "        preds = rbf_data @ self.w\n",
    "        \n",
    "        preds = np.argmax(preds, axis = 1)\n",
    "        preds[preds==0] = -1\n",
    "\n",
    "        return preds"
   ]
  },
  {
   "cell_type": "markdown",
   "metadata": {},
   "source": [
    "## Setup of Looping tester"
   ]
  },
  {
   "cell_type": "code",
   "execution_count": 18,
   "metadata": {},
   "outputs": [],
   "source": [
    "seed = 1337\n",
    "data = train_test_split(train_x, train_y, test_size = 0.3, random_state = seed)"
   ]
  },
  {
   "cell_type": "code",
   "execution_count": 100,
   "metadata": {},
   "outputs": [],
   "source": [
    "def evaluate_network(data, trials, size, decay_fn, som_iterations, som_sigma = None, rbf_sigma = None):\n",
    "    X_train, X_valid, y_train, y_valid = data\n",
    "    \n",
    "    accuracy = 0\n",
    "    \n",
    "    if som_sigma: som_sigma = som_sigma\n",
    "    else: som_sigma = np.sqrt(2*(size-1)**2) * 0.5\n",
    "        \n",
    "    if rbf_sigma: rbf_sigma = rbf_sigma\n",
    "    else: rbf_sigma = 1\n",
    "        \n",
    "    for i in range(trials):\n",
    "        som = MiniSomv2(size, size, input_len = X_train.shape[1], \n",
    "                decay_function=decay_fn,\n",
    "                sigma=som_sigma, learning_rate=0.1) \n",
    "        \n",
    "        som.random_weights_init(X_train)\n",
    "        som.train(X_train, som_iterations, random = True) \n",
    "        som.converge(X_train, som_iterations*8, lr = 0.01, random = True)\n",
    "\n",
    "        # Extract SOM outputs as 16 centre vectors\n",
    "        centroids = som.get_weights()\n",
    "        centroids = centroids.reshape(size**2,-1)\n",
    "\n",
    "        # Create, train and evaluate RBF network\n",
    "        rbfnet = RBF(X_train, y_train, centroids, sigma = rbf_sigma)\n",
    "        rbfnet.fit()\n",
    "        accuracy += rbfnet.evaluate(X_valid, y_valid)\n",
    "    accuracy = accuracy/trials\n",
    "    print(f'Average accuracy after {trials} trials is: {accuracy*100:0.2f}%')\n",
    "        \n",
    "    "
   ]
  },
  {
   "cell_type": "markdown",
   "metadata": {},
   "source": [
    "### Baseline"
   ]
  },
  {
   "cell_type": "code",
   "execution_count": 77,
   "metadata": {},
   "outputs": [
    {
     "name": "stdout",
     "output_type": "stream",
     "text": [
      "Average accuracy after 100 trials is: 80.79%\n"
     ]
    }
   ],
   "source": [
    "# BASELINE\n",
    "evaluate_network(data, 100, 4, exponential_decay, 1000, som_sigma = 2.121, rbf_sigma = 1)"
   ]
  },
  {
   "cell_type": "markdown",
   "metadata": {},
   "source": [
    "### Changing SOM size"
   ]
  },
  {
   "cell_type": "code",
   "execution_count": 78,
   "metadata": {},
   "outputs": [
    {
     "name": "stdout",
     "output_type": "stream",
     "text": [
      "Average accuracy after 100 trials is: 83.11%\n"
     ]
    }
   ],
   "source": [
    "evaluate_network(data, 100, 2, exponential_decay, 1000)"
   ]
  },
  {
   "cell_type": "code",
   "execution_count": 80,
   "metadata": {},
   "outputs": [
    {
     "name": "stdout",
     "output_type": "stream",
     "text": [
      "Average accuracy after 100 trials is: 79.70%\n"
     ]
    }
   ],
   "source": [
    "evaluate_network(data, 100, 3, exponential_decay, 1000)"
   ]
  },
  {
   "cell_type": "code",
   "execution_count": 81,
   "metadata": {},
   "outputs": [
    {
     "name": "stdout",
     "output_type": "stream",
     "text": [
      "Average accuracy after 100 trials is: 83.68%\n"
     ]
    }
   ],
   "source": [
    "evaluate_network(data, 100, 5, exponential_decay, 1000)"
   ]
  },
  {
   "cell_type": "code",
   "execution_count": 82,
   "metadata": {},
   "outputs": [
    {
     "name": "stdout",
     "output_type": "stream",
     "text": [
      "Average accuracy after 100 trials is: 83.98%\n"
     ]
    }
   ],
   "source": [
    "evaluate_network(data, 100, 6, exponential_decay, 1000)"
   ]
  },
  {
   "cell_type": "markdown",
   "metadata": {},
   "source": [
    "### Changing decay function"
   ]
  },
  {
   "cell_type": "code",
   "execution_count": 83,
   "metadata": {},
   "outputs": [
    {
     "name": "stdout",
     "output_type": "stream",
     "text": [
      "Average accuracy after 100 trials is: 79.89%\n"
     ]
    }
   ],
   "source": [
    "evaluate_network(data, 100, 4, asymptotic_decay, 1000)"
   ]
  },
  {
   "cell_type": "markdown",
   "metadata": {},
   "source": [
    "### Changing SOM training iterations"
   ]
  },
  {
   "cell_type": "code",
   "execution_count": 84,
   "metadata": {},
   "outputs": [
    {
     "name": "stdout",
     "output_type": "stream",
     "text": [
      "Average accuracy after 100 trials is: 75.98%\n"
     ]
    }
   ],
   "source": [
    "evaluate_network(data, 100, 4, exponential_decay, 500)"
   ]
  },
  {
   "cell_type": "code",
   "execution_count": 85,
   "metadata": {},
   "outputs": [
    {
     "name": "stdout",
     "output_type": "stream",
     "text": [
      "Average accuracy after 100 trials is: 84.07%\n"
     ]
    }
   ],
   "source": [
    "evaluate_network(data, 100, 4, exponential_decay, 1500)"
   ]
  },
  {
   "cell_type": "code",
   "execution_count": 86,
   "metadata": {
    "scrolled": true
   },
   "outputs": [
    {
     "name": "stdout",
     "output_type": "stream",
     "text": [
      "Average accuracy after 100 trials is: 84.78%\n"
     ]
    }
   ],
   "source": [
    "evaluate_network(data, 100, 4, exponential_decay, 2000)"
   ]
  },
  {
   "cell_type": "code",
   "execution_count": 87,
   "metadata": {},
   "outputs": [
    {
     "name": "stdout",
     "output_type": "stream",
     "text": [
      "Average accuracy after 100 trials is: 86.49%\n"
     ]
    }
   ],
   "source": [
    "evaluate_network(data, 100, 4, exponential_decay, 3000)"
   ]
  },
  {
   "cell_type": "markdown",
   "metadata": {},
   "source": [
    "### Changing SOM Sigma value"
   ]
  },
  {
   "cell_type": "code",
   "execution_count": 89,
   "metadata": {},
   "outputs": [
    {
     "name": "stdout",
     "output_type": "stream",
     "text": [
      "Average accuracy after 100 trials is: 81.92%\n"
     ]
    }
   ],
   "source": [
    "evaluate_network(data, 100, 4, exponential_decay, 1000, som_sigma = 0.25)"
   ]
  },
  {
   "cell_type": "code",
   "execution_count": 90,
   "metadata": {},
   "outputs": [
    {
     "name": "stdout",
     "output_type": "stream",
     "text": [
      "Average accuracy after 100 trials is: 83.30%\n"
     ]
    }
   ],
   "source": [
    "evaluate_network(data, 100, 4, exponential_decay, 1000, som_sigma = 0.5)"
   ]
  },
  {
   "cell_type": "code",
   "execution_count": 91,
   "metadata": {},
   "outputs": [
    {
     "name": "stdout",
     "output_type": "stream",
     "text": [
      "Average accuracy after 100 trials is: 82.47%\n"
     ]
    }
   ],
   "source": [
    "evaluate_network(data, 100, 4, exponential_decay, 1000, som_sigma = 1)"
   ]
  },
  {
   "cell_type": "code",
   "execution_count": 92,
   "metadata": {},
   "outputs": [
    {
     "name": "stdout",
     "output_type": "stream",
     "text": [
      "Average accuracy after 100 trials is: 80.93%\n"
     ]
    }
   ],
   "source": [
    "evaluate_network(data, 100, 4, exponential_decay, 1000, som_sigma = 1.5)"
   ]
  },
  {
   "cell_type": "markdown",
   "metadata": {},
   "source": [
    "### Changing RBF Sigma value"
   ]
  },
  {
   "cell_type": "code",
   "execution_count": 93,
   "metadata": {},
   "outputs": [
    {
     "name": "stdout",
     "output_type": "stream",
     "text": [
      "Average accuracy after 100 trials is: 80.12%\n"
     ]
    }
   ],
   "source": [
    "evaluate_network(data, 100, 4, exponential_decay, 1000, rbf_sigma = 0.5)"
   ]
  },
  {
   "cell_type": "code",
   "execution_count": 94,
   "metadata": {},
   "outputs": [
    {
     "name": "stdout",
     "output_type": "stream",
     "text": [
      "Average accuracy after 100 trials is: 85.35%\n"
     ]
    }
   ],
   "source": [
    "evaluate_network(data, 100, 4, exponential_decay, 1000, rbf_sigma = 2)"
   ]
  },
  {
   "cell_type": "code",
   "execution_count": 95,
   "metadata": {},
   "outputs": [
    {
     "name": "stdout",
     "output_type": "stream",
     "text": [
      "Average accuracy after 100 trials is: 88.33%\n"
     ]
    }
   ],
   "source": [
    "evaluate_network(data, 100, 4, exponential_decay, 1000, rbf_sigma = 5)"
   ]
  },
  {
   "cell_type": "code",
   "execution_count": 96,
   "metadata": {},
   "outputs": [
    {
     "name": "stdout",
     "output_type": "stream",
     "text": [
      "Average accuracy after 100 trials is: 86.52%\n"
     ]
    }
   ],
   "source": [
    "evaluate_network(data, 100, 4, exponential_decay, 1000, rbf_sigma = 10)"
   ]
  },
  {
   "cell_type": "markdown",
   "metadata": {},
   "source": [
    "### Optimal settings"
   ]
  },
  {
   "cell_type": "code",
   "execution_count": 97,
   "metadata": {},
   "outputs": [
    {
     "name": "stdout",
     "output_type": "stream",
     "text": [
      "Average accuracy after 100 trials is: 88.82%\n"
     ]
    }
   ],
   "source": [
    "evaluate_network(data, 100, 4, exponential_decay, 3000, som_sigma = 0.5, rbf_sigma = 5)"
   ]
  },
  {
   "cell_type": "markdown",
   "metadata": {},
   "source": [
    "## Data visualisation for SOM"
   ]
  },
  {
   "cell_type": "code",
   "execution_count": null,
   "metadata": {},
   "outputs": [],
   "source": []
  }
 ],
 "metadata": {
  "kernelspec": {
   "display_name": "Python 3",
   "language": "python",
   "name": "python3"
  },
  "language_info": {
   "codemirror_mode": {
    "name": "ipython",
    "version": 3
   },
   "file_extension": ".py",
   "mimetype": "text/x-python",
   "name": "python",
   "nbconvert_exporter": "python",
   "pygments_lexer": "ipython3",
   "version": "3.8.3"
  }
 },
 "nbformat": 4,
 "nbformat_minor": 4
}
