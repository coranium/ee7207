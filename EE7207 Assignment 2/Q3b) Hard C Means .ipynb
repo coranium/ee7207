{
 "cells": [
  {
   "cell_type": "code",
   "execution_count": 167,
   "metadata": {},
   "outputs": [],
   "source": [
    "import csv\n",
    "import numpy as np"
   ]
  },
  {
   "cell_type": "code",
   "execution_count": 168,
   "metadata": {},
   "outputs": [],
   "source": [
    "# Read data and store into variable\n",
    "data = np.zeros((15,2))\n",
    "with open('q3_data.csv','r',encoding='utf-8-sig') as file:\n",
    "    reader = csv.reader(file)\n",
    "    for i, row in enumerate(reader):\n",
    "        data[i] = row"
   ]
  },
  {
   "cell_type": "code",
   "execution_count": 172,
   "metadata": {},
   "outputs": [
    {
     "name": "stdout",
     "output_type": "stream",
     "text": [
      "1.0\n",
      "0\n",
      "[[0.714 2.   ]]\n",
      "[[5. 2.]]\n"
     ]
    }
   ],
   "source": [
    "# # Randomly init u1 and u2\n",
    "u1 = np.zeros((15,1))\n",
    "for i in np.random.choice(15, size=7, replace = False):\n",
    "    u1[i]= 1\n",
    "u2 = np.ones((15,1))- u1\n",
    "\n",
    "# Repeat this while stepsize is not 0\n",
    "stepsize = 5\n",
    "while stepsize != 0:\n",
    "\n",
    "    idx1,_ = np.where(u1 == 1)\n",
    "    idx2,_ = np.where(u2 == 1)\n",
    "\n",
    "    # Store u1 u2\n",
    "    u1_old = u1\n",
    "    u2_old = u2\n",
    "\n",
    "    # Calc centre\n",
    "    c1 = data[idx1].mean(axis=0, keepdims=True)\n",
    "    c2 = data[idx2].mean(axis=0, keepdims=True)\n",
    "\n",
    "    # Calc distance\n",
    "    dist1 = ((data - c1)**2).sum(axis = 1, keepdims=True)**0.5\n",
    "    dist2 = ((data - c2)**2).sum(axis = 1, keepdims=True)**0.5\n",
    "    dist = np.concatenate((dist1,dist2), axis = 1)\n",
    "\n",
    "    # update u1 u2\n",
    "    u1 = np.argmax(dist, axis= 1).reshape((15,1))\n",
    "    u2 = np.ones((15,1))- u1\n",
    "\n",
    "    # Calc change\n",
    "    stepsize = max(((u1 - u1_old)**2).max(), ((u2 - u2_old)**2).max())\n",
    "\n",
    "    print(stepsize)\n",
    "\n",
    "finalc1 = c1\n",
    "finalc2 = c2\n",
    "\n",
    "print(np.round(finalc1,3))\n",
    "print(np.round(finalc2,3))"
   ]
  }
 ],
 "metadata": {
  "kernelspec": {
   "display_name": "Python 3",
   "language": "python",
   "name": "python3"
  },
  "language_info": {
   "codemirror_mode": {
    "name": "ipython",
    "version": 3
   },
   "file_extension": ".py",
   "mimetype": "text/x-python",
   "name": "python",
   "nbconvert_exporter": "python",
   "pygments_lexer": "ipython3",
   "version": "3.8.5"
  }
 },
 "nbformat": 4,
 "nbformat_minor": 4
}
