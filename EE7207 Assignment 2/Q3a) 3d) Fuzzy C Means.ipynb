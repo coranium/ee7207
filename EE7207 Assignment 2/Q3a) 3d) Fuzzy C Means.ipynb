{
 "cells": [
  {
   "cell_type": "code",
   "execution_count": 1,
   "metadata": {},
   "outputs": [],
   "source": [
    "import csv\n",
    "import numpy as np"
   ]
  },
  {
   "cell_type": "code",
   "execution_count": 2,
   "metadata": {},
   "outputs": [],
   "source": [
    "# Define Constants/Params\n",
    "m = 1.25\n",
    "eps = 0.01\n",
    "\n",
    "# Initial A values given in Q3a\n",
    "A1 = np.array([8,8,8,8,8,8,8,8,2,2,2,2,2,2,2])/10\n",
    "A2 = 1-A1\n",
    "\n",
    "A1 = A1.reshape(15,1)\n",
    "A2 = A2.reshape(15,1)"
   ]
  },
  {
   "cell_type": "code",
   "execution_count": 3,
   "metadata": {},
   "outputs": [],
   "source": [
    "# Read data and store into variable\n",
    "data = np.zeros((15,2))\n",
    "with open('q3_data.csv','r',encoding='utf-8-sig') as file:\n",
    "    reader = csv.reader(file)\n",
    "    for i, row in enumerate(reader):\n",
    "        data[i] = row"
   ]
  },
  {
   "cell_type": "code",
   "execution_count": 4,
   "metadata": {},
   "outputs": [],
   "source": [
    "# Based on Eqn (13.3)\n",
    "def calc_centre(A, data):\n",
    "    return np.sum(data*(A ** m), axis = 0)/np.sum(A ** m)"
   ]
  },
  {
   "cell_type": "code",
   "execution_count": 5,
   "metadata": {},
   "outputs": [
    {
     "name": "stdout",
     "output_type": "stream",
     "text": [
      "[1.574 2.   ] [4.565 2.   ] are cluster centres for iteration 1\n",
      "Stepsize is 0.200\n",
      " ======================================================================\n",
      "[0.902 2.   ] [5.206 2.   ] are cluster centres for iteration 2\n",
      "Stepsize is 0.079\n",
      " ======================================================================\n",
      "[0.875 2.   ] [5.186 2.   ] are cluster centres for iteration 3\n",
      "Stepsize is 0.043\n",
      " ======================================================================\n",
      "[0.861 2.   ] [5.173 2.   ] are cluster centres for iteration 4\n",
      "Stepsize is 0.024\n",
      " ======================================================================\n",
      "[0.854 2.   ] [5.166 2.   ] are cluster centres for iteration 5\n",
      "Stepsize is 0.014\n",
      " ======================================================================\n",
      "[0.85 2.  ] [5.161 2.   ] are cluster centres for iteration 6\n",
      "Stepsize is 0.008\n",
      " ======================================================================\n"
     ]
    }
   ],
   "source": [
    "stepsize = 50\n",
    "tmp1 = A1\n",
    "tmp1_old = A1\n",
    "tmp2 = A2\n",
    "tmp2_old = A2\n",
    "count = 0\n",
    "while stepsize > eps:\n",
    "    count += 1\n",
    "    \n",
    "    # Step 2 of Algorithm\n",
    "    c1 = calc_centre(tmp1,data)\n",
    "    c2 = calc_centre(tmp2,data)\n",
    "    print(np.round(c1,3) ,np.round(c2,3) , f'are cluster centres for iteration {count}')\n",
    "    \n",
    "    # Step 3 of Algorithm\n",
    "    diff = np.sum((data - c1)**2, axis = 1)\n",
    "    diff2 = np.sum((data - c2)**2, axis = 1)\n",
    "    tmp1 = diff/diff2\n",
    "    tmp1 = 1/(tmp1**(1/(m-1)) +1)\n",
    "    tmp1 = tmp1.reshape(15,1)\n",
    "    tmp2 = diff2/diff\n",
    "    tmp2 = 1/(tmp2**(1/(m-1)) +1)\n",
    "    tmp2 = tmp2.reshape(15,1)\n",
    "    \n",
    "    # Step 4 of Algorithm\n",
    "    stepsize = np.max([np.abs(tmp1-tmp1_old), np.abs(tmp2-tmp2_old)])\n",
    "    tmp1_old = tmp1\n",
    "    tmp2_old = tmp2\n",
    "    print(f'Stepsize is {stepsize:0.3f}\\n',70*'=')\n",
    "\n",
    "finalc1 = c1\n",
    "finalc2 = c2\n",
    "finalA1 = tmp1\n",
    "finalA2 = tmp2"
   ]
  },
  {
   "cell_type": "code",
   "execution_count": 46,
   "metadata": {},
   "outputs": [
    {
     "name": "stdout",
     "output_type": "stream",
     "text": [
      "Final A1 is:\n",
      " [[0.999]\n",
      " [1.   ]\n",
      " [0.999]\n",
      " [1.   ]\n",
      " [1.   ]\n",
      " [1.   ]\n",
      " [1.   ]\n",
      " [0.51 ]\n",
      " [0.   ]\n",
      " [0.   ]\n",
      " [0.   ]\n",
      " [0.   ]\n",
      " [0.001]\n",
      " [0.   ]\n",
      " [0.001]] \n",
      " ====================\n",
      "Final A2 is:\n",
      " [[0.001]\n",
      " [0.   ]\n",
      " [0.001]\n",
      " [0.   ]\n",
      " [0.   ]\n",
      " [0.   ]\n",
      " [0.   ]\n",
      " [0.49 ]\n",
      " [1.   ]\n",
      " [1.   ]\n",
      " [1.   ]\n",
      " [1.   ]\n",
      " [0.999]\n",
      " [1.   ]\n",
      " [0.999]] \n",
      " ====================\n",
      "Final C1 is:\n",
      " [0.85 2.  ] \n",
      " ====================\n",
      "Final C2 is:\n",
      " [5.161 2.   ] \n",
      " ====================\n"
     ]
    }
   ],
   "source": [
    "# Print results for Q3a.\n",
    "print('Final A1 is:\\n', np.round(finalA1,3),'\\n',20*'=')\n",
    "print('Final A2 is:\\n', np.round(finalA2,3),'\\n',20*'=')\n",
    "print('Final C1 is:\\n', np.round(finalc1,3),'\\n',20*'=')\n",
    "print('Final C2 is:\\n', np.round(finalc2,3),'\\n',20*'=')"
   ]
  },
  {
   "cell_type": "code",
   "execution_count": 38,
   "metadata": {},
   "outputs": [],
   "source": [
    "# Compute fuzzy relation matrix for Q3d\n",
    "fuz_rel = np.minimum(finalA1,finalA1.T) + np.minimum(finalA2,finalA2.T)\n",
    "fuz_rel = np.round(fuz_rel,4)\n",
    "\n",
    "# Use pandas to save the fuzzy relation matrix as a csv file. 15 x 15 too large to display nicely\n",
    "import pandas as pd\n",
    "df = pd.DataFrame(fuz_rel)\n",
    "df.to_csv('fuzzy_relation_matrix.csv',header=False)"
   ]
  }
 ],
 "metadata": {
  "kernelspec": {
   "display_name": "Python 3",
   "language": "python",
   "name": "python3"
  },
  "language_info": {
   "codemirror_mode": {
    "name": "ipython",
    "version": 3
   },
   "file_extension": ".py",
   "mimetype": "text/x-python",
   "name": "python",
   "nbconvert_exporter": "python",
   "pygments_lexer": "ipython3",
   "version": "3.8.5"
  }
 },
 "nbformat": 4,
 "nbformat_minor": 4
}
